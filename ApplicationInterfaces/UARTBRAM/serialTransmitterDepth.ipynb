{
 "cells": [
  {
   "cell_type": "code",
   "execution_count": 3,
   "source": [
    "import serial\n",
    "import time"
   ],
   "outputs": [],
   "metadata": {}
  },
  {
   "cell_type": "code",
   "execution_count": 4,
   "source": [
    "def byteIntTobyte(intVal):\n",
    "    # stringVal = str(intVal)\n",
    "    byteVal=intVal.to_bytes(1,'little')\n",
    "    return byteVal\n",
    "# print(byteIntTobyte(57))\n",
    "def IntTobyteArray(intVal):\n",
    "    firstByte = intVal & 0xFF\n",
    "    secondByte = (intVal>>8) & 0xFF\n",
    "    thirdByte = (intVal>>16) & 0xFF\n",
    "    fourthByte = (intVal>>24) & 0xFF\n",
    "    retAr = []\n",
    "    retAr.append(byteIntTobyte(firstByte))\n",
    "    retAr.append(byteIntTobyte(secondByte))\n",
    "    retAr.append(byteIntTobyte(thirdByte))\n",
    "    retAr.append(byteIntTobyte(fourthByte))\n",
    "    return retAr"
   ],
   "outputs": [],
   "metadata": {}
  },
  {
   "cell_type": "code",
   "execution_count": 5,
   "source": [
    "def sendDepth(ser, depth=0, delay=0.01):\n",
    "    dataBytest = IntTobyteArray(depth)\n",
    "    # print(dataBytest, dataBytest[0])\n",
    "    ser.write(b'\\x0F')\n",
    "    time.sleep(delay)\n",
    "    ser.write(dataBytest[0])\n",
    "    time.sleep(delay)\n",
    "    ser.write(dataBytest[1])\n",
    "    time.sleep(delay)\n",
    "    ser.write(dataBytest[2])\n",
    "    time.sleep(delay)\n",
    "    ser.write(dataBytest[3])\n",
    "    time.sleep(delay)\n",
    "\n",
    "def getDepth(ser, delay=0.001):\n",
    "    ser.write(b'\\x0E')\n",
    "    a = ser.read(4)\n",
    "    int_val = int.from_bytes(a, \"little\")\n",
    "    return int_val"
   ],
   "outputs": [],
   "metadata": {}
  },
  {
   "cell_type": "code",
   "execution_count": 75,
   "source": [
    "def sendDataByte(ser, byteVal=0, delay=0.01):\n",
    "    gg = byteIntTobyte(byteVal)\n",
    "    ser.write(b'\\x0C')\n",
    "    time.sleep(delay)\n",
    "    ser.write(gg)\n",
    "    time.sleep(delay)    \n",
    "def sendBRAMData(ser, delay=0.01, fileName = ''):\n",
    "    with open(fileName) as f:\n",
    "        gg = f.readlines()\n",
    "        f.close()\n",
    "    sendDepth(ser, depth=len(gg), delay=delay)\n",
    "    print(getDepth(ser))\n",
    "\n",
    "    ser.write(b'\\x0C')\n",
    "    time.sleep(delay)\n",
    "    for i in range(len(gg)):\n",
    "        val = int(gg[i].strip())\n",
    "        ser.write(byteIntTobyte(val))\n",
    "        time.sleep(delay)     "
   ],
   "outputs": [],
   "metadata": {}
  },
  {
   "cell_type": "code",
   "execution_count": 76,
   "source": [
    "# ser = serial.Serial('/dev/ttyUSB0', 9600)\n",
    "# sendDepth(ser, depth=4)\n",
    "# print(getDepth(ser))\n",
    "# ser.close()"
   ],
   "outputs": [],
   "metadata": {}
  },
  {
   "cell_type": "code",
   "execution_count": 79,
   "source": [
    "ser = serial.Serial('/dev/ttyUSB0', 9600)\n",
    "sendBRAMData(ser, fileName='test.memTxt', delay=0.005)\n",
    "ser.close()"
   ],
   "outputs": [
    {
     "output_type": "stream",
     "name": "stdout",
     "text": [
      "8\n"
     ]
    }
   ],
   "metadata": {}
  },
  {
   "cell_type": "code",
   "execution_count": 9,
   "source": [
    "ser = serial.Serial('/dev/ttyUSB1', 9600)\n",
    "sendDepth(ser, depth=3)\n",
    "print(getDepth(ser))\n",
    "ser.write(b'\\x0C')\n",
    "time.sleep(0.01)\n",
    "# ser.write(byteIntTobyte(50))\n",
    "# time.sleep(0.01)  \n",
    "# ser.write(byteIntTobyte(51))\n",
    "# time.sleep(0.01)  \n",
    "# ser.write(byteIntTobyte(52))\n",
    "# time.sleep(0.01)  \n",
    "# ser.write(byteIntTobyte(53))\n",
    "# # time.sleep(0.01)  \n",
    "# ser.write(byteIntTobyte(54))\n",
    "# time.sleep(0.01)  \n",
    "ser.write(byteIntTobyte(55))\n",
    "time.sleep(0.01)  \n",
    "ser.write(byteIntTobyte(56))\n",
    "time.sleep(0.01)  \n",
    "ser.write(byteIntTobyte(57))\n",
    "time.sleep(0.01)  \n",
    "# ser.write(byteIntTobyte(58))\n",
    "# time.sleep(0.01)\n",
    "# ser.write(byteIntTobyte(59))\n",
    "# time.sleep(0.01)      \n",
    "ser.close()"
   ],
   "outputs": [
    {
     "output_type": "stream",
     "name": "stdout",
     "text": [
      "8\n"
     ]
    }
   ],
   "metadata": {}
  }
 ],
 "metadata": {
  "orig_nbformat": 4,
  "language_info": {
   "name": "python",
   "version": "3.8.10",
   "mimetype": "text/x-python",
   "codemirror_mode": {
    "name": "ipython",
    "version": 3
   },
   "pygments_lexer": "ipython3",
   "nbconvert_exporter": "python",
   "file_extension": ".py"
  },
  "kernelspec": {
   "name": "python3",
   "display_name": "Python 3.8.10 64-bit"
  },
  "interpreter": {
   "hash": "31f2aee4e71d21fbe5cf8b01ff0e069b9275f58929596ceb00d14d90e3e16cd6"
  }
 },
 "nbformat": 4,
 "nbformat_minor": 2
}