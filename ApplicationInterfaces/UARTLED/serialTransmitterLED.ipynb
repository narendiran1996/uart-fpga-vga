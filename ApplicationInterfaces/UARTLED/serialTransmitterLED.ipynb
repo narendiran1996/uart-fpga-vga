{
 "cells": [
  {
   "cell_type": "code",
   "execution_count": 279,
   "source": [
    "import serial\n",
    "import time"
   ],
   "outputs": [],
   "metadata": {}
  },
  {
   "cell_type": "code",
   "execution_count": 366,
   "source": [
    "def sendLED_Data(ser, data=0, delay=0.001):\n",
    "    cmd = b'\\x0F'\n",
    "    ser.write(cmd)\n",
    "    time.sleep(delay)\n",
    "    cmd = data.to_bytes(1, 'big')\n",
    "    ser.write(cmd)\n",
    "    time.sleep(delay)\n",
    "\n",
    "def getLED_Data(ser, delay=0.001):\n",
    "    cmd = b'\\x0E'\n",
    "    ser.write(cmd)\n",
    "    print(ser.read())\n",
    "\n",
    "\n",
    "ser = serial.Serial('/dev/ttyUSB4', 9600)\n",
    "sendLED_Data(ser,9)\n",
    "getLED_Data(ser)\n",
    "ser.close()"
   ],
   "outputs": [
    {
     "output_type": "stream",
     "name": "stdout",
     "text": [
      "b'\\t'\n"
     ]
    }
   ],
   "metadata": {}
  },
  {
   "cell_type": "code",
   "execution_count": null,
   "source": [],
   "outputs": [],
   "metadata": {}
  },
  {
   "cell_type": "code",
   "execution_count": null,
   "source": [],
   "outputs": [],
   "metadata": {}
  }
 ],
 "metadata": {
  "orig_nbformat": 4,
  "language_info": {
   "name": "python"
  }
 },
 "nbformat": 4,
 "nbformat_minor": 2
}